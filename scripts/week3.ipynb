{
 "cells": [
  {
   "cell_type": "code",
   "execution_count": 1,
   "metadata": {},
   "outputs": [
    {
     "name": "stdout",
     "output_type": "stream",
     "text": [
      "Libraries imported.\n"
     ]
    }
   ],
   "source": [
    "import numpy as np # library to handle data in a vectorized manner\n",
    "\n",
    "import pandas as pd # library for data analsysis\n",
    "pd.set_option(\"display.max_columns\", None)\n",
    "pd.set_option(\"display.max_rows\", None)\n",
    "\n",
    "import json # library to handle JSON files\n",
    "\n",
    "from geopy.geocoders import Nominatim # convert an address into latitude and longitude values\n",
    "\n",
    "import requests # library to handle requests\n",
    "from bs4 import BeautifulSoup # library to parse HTML and XML documents\n",
    "\n",
    "from pandas.io.json import json_normalize # tranform JSON file into a pandas dataframe\n",
    "\n",
    "# Matplotlib and associated plotting modules\n",
    "import matplotlib.cm as cm\n",
    "import matplotlib.colors as colors\n",
    "\n",
    "# import k-means from clustering stage\n",
    "from sklearn.cluster import KMeans\n",
    "\n",
    "import folium # map rendering library\n",
    "\n",
    "print(\"Libraries imported.\")"
   ]
  },
  {
   "cell_type": "markdown",
   "metadata": {},
   "source": [
    "Scraping Of Data from Wikipedia"
   ]
  },
  {
   "cell_type": "code",
   "execution_count": 2,
   "metadata": {},
   "outputs": [],
   "source": [
    "data=requests.get('https://en.wikipedia.org/wiki/List_of_postal_codes_of_Canada:_M').text"
   ]
  },
  {
   "cell_type": "code",
   "execution_count": 3,
   "metadata": {},
   "outputs": [],
   "source": [
    "soup= BeautifulSoup(data,'html.parser')"
   ]
  },
  {
   "cell_type": "code",
   "execution_count": 4,
   "metadata": {},
   "outputs": [],
   "source": [
    "postalCode = []\n",
    "boroughList = []\n",
    "neighborhoodList = []"
   ]
  },
  {
   "cell_type": "code",
   "execution_count": 5,
   "metadata": {},
   "outputs": [],
   "source": [
    "for row in soup.find('table').find_all('tr'):\n",
    "    cells = row.find_all('td')\n",
    "    if(len(cells) > 0):\n",
    "        postalCode.append(cells[0].text.rstrip('\\n'))\n",
    "        boroughList.append(cells[1].text.rstrip('\\n'))\n",
    "        neighborhoodList.append(cells[2].text.rstrip('\\n'))"
   ]
  },
  {
   "cell_type": "markdown",
   "metadata": {},
   "source": [
    "Dropping Not Assigned rows"
   ]
  },
  {
   "cell_type": "code",
   "execution_count": 6,
   "metadata": {},
   "outputs": [
    {
     "data": {
      "text/html": [
       "<div>\n",
       "<style scoped>\n",
       "    .dataframe tbody tr th:only-of-type {\n",
       "        vertical-align: middle;\n",
       "    }\n",
       "\n",
       "    .dataframe tbody tr th {\n",
       "        vertical-align: top;\n",
       "    }\n",
       "\n",
       "    .dataframe thead th {\n",
       "        text-align: right;\n",
       "    }\n",
       "</style>\n",
       "<table border=\"1\" class=\"dataframe\">\n",
       "  <thead>\n",
       "    <tr style=\"text-align: right;\">\n",
       "      <th></th>\n",
       "      <th>PostalCode</th>\n",
       "      <th>Borough</th>\n",
       "      <th>Neighborhood</th>\n",
       "    </tr>\n",
       "  </thead>\n",
       "  <tbody>\n",
       "    <tr>\n",
       "      <th>0</th>\n",
       "      <td>M1A</td>\n",
       "      <td>Not assigned</td>\n",
       "      <td>Not assigned</td>\n",
       "    </tr>\n",
       "    <tr>\n",
       "      <th>1</th>\n",
       "      <td>M2A</td>\n",
       "      <td>Not assigned</td>\n",
       "      <td>Not assigned</td>\n",
       "    </tr>\n",
       "    <tr>\n",
       "      <th>2</th>\n",
       "      <td>M3A</td>\n",
       "      <td>North York</td>\n",
       "      <td>Parkwoods</td>\n",
       "    </tr>\n",
       "    <tr>\n",
       "      <th>3</th>\n",
       "      <td>M4A</td>\n",
       "      <td>North York</td>\n",
       "      <td>Victoria Village</td>\n",
       "    </tr>\n",
       "    <tr>\n",
       "      <th>4</th>\n",
       "      <td>M5A</td>\n",
       "      <td>Downtown Toronto</td>\n",
       "      <td>Regent Park, Harbourfront</td>\n",
       "    </tr>\n",
       "  </tbody>\n",
       "</table>\n",
       "</div>"
      ],
      "text/plain": [
       "  PostalCode           Borough               Neighborhood\n",
       "0        M1A      Not assigned               Not assigned\n",
       "1        M2A      Not assigned               Not assigned\n",
       "2        M3A        North York                  Parkwoods\n",
       "3        M4A        North York           Victoria Village\n",
       "4        M5A  Downtown Toronto  Regent Park, Harbourfront"
      ]
     },
     "execution_count": 6,
     "metadata": {},
     "output_type": "execute_result"
    }
   ],
   "source": [
    "toronto_df = pd.DataFrame({\"PostalCode\": postalCode,\"Borough\": boroughList,\"Neighborhood\": neighborhoodList})\n",
    "\n",
    "toronto_df.head()"
   ]
  },
  {
   "cell_type": "code",
   "execution_count": 7,
   "metadata": {},
   "outputs": [
    {
     "data": {
      "text/html": [
       "<div>\n",
       "<style scoped>\n",
       "    .dataframe tbody tr th:only-of-type {\n",
       "        vertical-align: middle;\n",
       "    }\n",
       "\n",
       "    .dataframe tbody tr th {\n",
       "        vertical-align: top;\n",
       "    }\n",
       "\n",
       "    .dataframe thead th {\n",
       "        text-align: right;\n",
       "    }\n",
       "</style>\n",
       "<table border=\"1\" class=\"dataframe\">\n",
       "  <thead>\n",
       "    <tr style=\"text-align: right;\">\n",
       "      <th></th>\n",
       "      <th>PostalCode</th>\n",
       "      <th>Borough</th>\n",
       "      <th>Neighborhood</th>\n",
       "    </tr>\n",
       "  </thead>\n",
       "  <tbody>\n",
       "    <tr>\n",
       "      <th>0</th>\n",
       "      <td>M3A</td>\n",
       "      <td>North York</td>\n",
       "      <td>Parkwoods</td>\n",
       "    </tr>\n",
       "    <tr>\n",
       "      <th>1</th>\n",
       "      <td>M4A</td>\n",
       "      <td>North York</td>\n",
       "      <td>Victoria Village</td>\n",
       "    </tr>\n",
       "    <tr>\n",
       "      <th>2</th>\n",
       "      <td>M5A</td>\n",
       "      <td>Downtown Toronto</td>\n",
       "      <td>Regent Park, Harbourfront</td>\n",
       "    </tr>\n",
       "    <tr>\n",
       "      <th>3</th>\n",
       "      <td>M6A</td>\n",
       "      <td>North York</td>\n",
       "      <td>Lawrence Manor, Lawrence Heights</td>\n",
       "    </tr>\n",
       "    <tr>\n",
       "      <th>4</th>\n",
       "      <td>M7A</td>\n",
       "      <td>Downtown Toronto</td>\n",
       "      <td>Queen's Park, Ontario Provincial Government</td>\n",
       "    </tr>\n",
       "  </tbody>\n",
       "</table>\n",
       "</div>"
      ],
      "text/plain": [
       "  PostalCode           Borough                                 Neighborhood\n",
       "0        M3A        North York                                    Parkwoods\n",
       "1        M4A        North York                             Victoria Village\n",
       "2        M5A  Downtown Toronto                    Regent Park, Harbourfront\n",
       "3        M6A        North York             Lawrence Manor, Lawrence Heights\n",
       "4        M7A  Downtown Toronto  Queen's Park, Ontario Provincial Government"
      ]
     },
     "execution_count": 7,
     "metadata": {},
     "output_type": "execute_result"
    }
   ],
   "source": [
    "toronto_df_drop=toronto_df[toronto_df.Borough!='Not assigned'].reset_index(drop=True)\n",
    "toronto_df_drop.head()"
   ]
  },
  {
   "cell_type": "markdown",
   "metadata": {},
   "source": [
    "Group Neighbourhood in the name of Same Borough"
   ]
  },
  {
   "cell_type": "code",
   "execution_count": 8,
   "metadata": {},
   "outputs": [
    {
     "data": {
      "text/html": [
       "<div>\n",
       "<style scoped>\n",
       "    .dataframe tbody tr th:only-of-type {\n",
       "        vertical-align: middle;\n",
       "    }\n",
       "\n",
       "    .dataframe tbody tr th {\n",
       "        vertical-align: top;\n",
       "    }\n",
       "\n",
       "    .dataframe thead th {\n",
       "        text-align: right;\n",
       "    }\n",
       "</style>\n",
       "<table border=\"1\" class=\"dataframe\">\n",
       "  <thead>\n",
       "    <tr style=\"text-align: right;\">\n",
       "      <th></th>\n",
       "      <th>PostalCode</th>\n",
       "      <th>Borough</th>\n",
       "      <th>Neighborhood</th>\n",
       "    </tr>\n",
       "  </thead>\n",
       "  <tbody>\n",
       "    <tr>\n",
       "      <th>0</th>\n",
       "      <td>M1B</td>\n",
       "      <td>Scarborough</td>\n",
       "      <td>Malvern, Rouge</td>\n",
       "    </tr>\n",
       "    <tr>\n",
       "      <th>1</th>\n",
       "      <td>M1C</td>\n",
       "      <td>Scarborough</td>\n",
       "      <td>Rouge Hill, Port Union, Highland Creek</td>\n",
       "    </tr>\n",
       "    <tr>\n",
       "      <th>2</th>\n",
       "      <td>M1E</td>\n",
       "      <td>Scarborough</td>\n",
       "      <td>Guildwood, Morningside, West Hill</td>\n",
       "    </tr>\n",
       "    <tr>\n",
       "      <th>3</th>\n",
       "      <td>M1G</td>\n",
       "      <td>Scarborough</td>\n",
       "      <td>Woburn</td>\n",
       "    </tr>\n",
       "    <tr>\n",
       "      <th>4</th>\n",
       "      <td>M1H</td>\n",
       "      <td>Scarborough</td>\n",
       "      <td>Cedarbrae</td>\n",
       "    </tr>\n",
       "  </tbody>\n",
       "</table>\n",
       "</div>"
      ],
      "text/plain": [
       "  PostalCode      Borough                            Neighborhood\n",
       "0        M1B  Scarborough                          Malvern, Rouge\n",
       "1        M1C  Scarborough  Rouge Hill, Port Union, Highland Creek\n",
       "2        M1E  Scarborough       Guildwood, Morningside, West Hill\n",
       "3        M1G  Scarborough                                  Woburn\n",
       "4        M1H  Scarborough                               Cedarbrae"
      ]
     },
     "execution_count": 8,
     "metadata": {},
     "output_type": "execute_result"
    }
   ],
   "source": [
    "toronto_df_group=toronto_df_drop.groupby(['PostalCode','Borough'],as_index=False).agg(lambda x: \", \".join(x))\n",
    "\n",
    "toronto_df_group.head()"
   ]
  },
  {
   "cell_type": "markdown",
   "metadata": {},
   "source": [
    "For Not assigned Neighbourhood Make same value as Borough"
   ]
  },
  {
   "cell_type": "code",
   "execution_count": 9,
   "metadata": {},
   "outputs": [
    {
     "data": {
      "text/html": [
       "<div>\n",
       "<style scoped>\n",
       "    .dataframe tbody tr th:only-of-type {\n",
       "        vertical-align: middle;\n",
       "    }\n",
       "\n",
       "    .dataframe tbody tr th {\n",
       "        vertical-align: top;\n",
       "    }\n",
       "\n",
       "    .dataframe thead th {\n",
       "        text-align: right;\n",
       "    }\n",
       "</style>\n",
       "<table border=\"1\" class=\"dataframe\">\n",
       "  <thead>\n",
       "    <tr style=\"text-align: right;\">\n",
       "      <th></th>\n",
       "      <th>PostalCode</th>\n",
       "      <th>Borough</th>\n",
       "      <th>Neighborhood</th>\n",
       "    </tr>\n",
       "  </thead>\n",
       "  <tbody>\n",
       "    <tr>\n",
       "      <th>0</th>\n",
       "      <td>M1B</td>\n",
       "      <td>Scarborough</td>\n",
       "      <td>Malvern, Rouge</td>\n",
       "    </tr>\n",
       "    <tr>\n",
       "      <th>1</th>\n",
       "      <td>M1C</td>\n",
       "      <td>Scarborough</td>\n",
       "      <td>Rouge Hill, Port Union, Highland Creek</td>\n",
       "    </tr>\n",
       "    <tr>\n",
       "      <th>2</th>\n",
       "      <td>M1E</td>\n",
       "      <td>Scarborough</td>\n",
       "      <td>Guildwood, Morningside, West Hill</td>\n",
       "    </tr>\n",
       "    <tr>\n",
       "      <th>3</th>\n",
       "      <td>M1G</td>\n",
       "      <td>Scarborough</td>\n",
       "      <td>Woburn</td>\n",
       "    </tr>\n",
       "    <tr>\n",
       "      <th>4</th>\n",
       "      <td>M1H</td>\n",
       "      <td>Scarborough</td>\n",
       "      <td>Cedarbrae</td>\n",
       "    </tr>\n",
       "  </tbody>\n",
       "</table>\n",
       "</div>"
      ],
      "text/plain": [
       "  PostalCode      Borough                            Neighborhood\n",
       "0        M1B  Scarborough                          Malvern, Rouge\n",
       "1        M1C  Scarborough  Rouge Hill, Port Union, Highland Creek\n",
       "2        M1E  Scarborough       Guildwood, Morningside, West Hill\n",
       "3        M1G  Scarborough                                  Woburn\n",
       "4        M1H  Scarborough                               Cedarbrae"
      ]
     },
     "execution_count": 9,
     "metadata": {},
     "output_type": "execute_result"
    }
   ],
   "source": [
    "for index,row in toronto_df_group.iterrows():\n",
    "    if(row['Neighborhood']=='Not assigned'):\n",
    "        row['Neighborhood']=row['Borough']\n",
    "toronto_df_group.head()"
   ]
  },
  {
   "cell_type": "markdown",
   "metadata": {},
   "source": [
    "Making dataframe required by the Question"
   ]
  },
  {
   "cell_type": "code",
   "execution_count": 10,
   "metadata": {},
   "outputs": [
    {
     "data": {
      "text/html": [
       "<div>\n",
       "<style scoped>\n",
       "    .dataframe tbody tr th:only-of-type {\n",
       "        vertical-align: middle;\n",
       "    }\n",
       "\n",
       "    .dataframe tbody tr th {\n",
       "        vertical-align: top;\n",
       "    }\n",
       "\n",
       "    .dataframe thead th {\n",
       "        text-align: right;\n",
       "    }\n",
       "</style>\n",
       "<table border=\"1\" class=\"dataframe\">\n",
       "  <thead>\n",
       "    <tr style=\"text-align: right;\">\n",
       "      <th></th>\n",
       "      <th>PostalCode</th>\n",
       "      <th>Borough</th>\n",
       "      <th>Neighborhood</th>\n",
       "    </tr>\n",
       "  </thead>\n",
       "  <tbody>\n",
       "    <tr>\n",
       "      <th>0</th>\n",
       "      <td>M5G</td>\n",
       "      <td>Downtown Toronto</td>\n",
       "      <td>Central Bay Street</td>\n",
       "    </tr>\n",
       "    <tr>\n",
       "      <th>1</th>\n",
       "      <td>M2H</td>\n",
       "      <td>North York</td>\n",
       "      <td>Hillcrest Village</td>\n",
       "    </tr>\n",
       "    <tr>\n",
       "      <th>2</th>\n",
       "      <td>M4B</td>\n",
       "      <td>East York</td>\n",
       "      <td>Parkview Hill, Woodbine Gardens</td>\n",
       "    </tr>\n",
       "    <tr>\n",
       "      <th>3</th>\n",
       "      <td>M1J</td>\n",
       "      <td>Scarborough</td>\n",
       "      <td>Scarborough Village</td>\n",
       "    </tr>\n",
       "    <tr>\n",
       "      <th>4</th>\n",
       "      <td>M4G</td>\n",
       "      <td>East York</td>\n",
       "      <td>Leaside</td>\n",
       "    </tr>\n",
       "    <tr>\n",
       "      <th>5</th>\n",
       "      <td>M4M</td>\n",
       "      <td>East Toronto</td>\n",
       "      <td>Studio District</td>\n",
       "    </tr>\n",
       "    <tr>\n",
       "      <th>6</th>\n",
       "      <td>M1R</td>\n",
       "      <td>Scarborough</td>\n",
       "      <td>Wexford, Maryvale</td>\n",
       "    </tr>\n",
       "    <tr>\n",
       "      <th>7</th>\n",
       "      <td>M9V</td>\n",
       "      <td>Etobicoke</td>\n",
       "      <td>South Steeles, Silverstone, Humbergate, Jamest...</td>\n",
       "    </tr>\n",
       "    <tr>\n",
       "      <th>8</th>\n",
       "      <td>M9L</td>\n",
       "      <td>North York</td>\n",
       "      <td>Humber Summit</td>\n",
       "    </tr>\n",
       "    <tr>\n",
       "      <th>9</th>\n",
       "      <td>M5V</td>\n",
       "      <td>Downtown Toronto</td>\n",
       "      <td>CN Tower, King and Spadina, Railway Lands, Har...</td>\n",
       "    </tr>\n",
       "    <tr>\n",
       "      <th>10</th>\n",
       "      <td>M1B</td>\n",
       "      <td>Scarborough</td>\n",
       "      <td>Malvern, Rouge</td>\n",
       "    </tr>\n",
       "    <tr>\n",
       "      <th>11</th>\n",
       "      <td>M5A</td>\n",
       "      <td>Downtown Toronto</td>\n",
       "      <td>Regent Park, Harbourfront</td>\n",
       "    </tr>\n",
       "  </tbody>\n",
       "</table>\n",
       "</div>"
      ],
      "text/plain": [
       "   PostalCode           Borough  \\\n",
       "0         M5G  Downtown Toronto   \n",
       "1         M2H        North York   \n",
       "2         M4B         East York   \n",
       "3         M1J       Scarborough   \n",
       "4         M4G         East York   \n",
       "5         M4M      East Toronto   \n",
       "6         M1R       Scarborough   \n",
       "7         M9V         Etobicoke   \n",
       "8         M9L        North York   \n",
       "9         M5V  Downtown Toronto   \n",
       "10        M1B       Scarborough   \n",
       "11        M5A  Downtown Toronto   \n",
       "\n",
       "                                         Neighborhood  \n",
       "0                                  Central Bay Street  \n",
       "1                                   Hillcrest Village  \n",
       "2                     Parkview Hill, Woodbine Gardens  \n",
       "3                                 Scarborough Village  \n",
       "4                                             Leaside  \n",
       "5                                     Studio District  \n",
       "6                                   Wexford, Maryvale  \n",
       "7   South Steeles, Silverstone, Humbergate, Jamest...  \n",
       "8                                       Humber Summit  \n",
       "9   CN Tower, King and Spadina, Railway Lands, Har...  \n",
       "10                                     Malvern, Rouge  \n",
       "11                          Regent Park, Harbourfront  "
      ]
     },
     "execution_count": 10,
     "metadata": {},
     "output_type": "execute_result"
    }
   ],
   "source": [
    "column_names=['PostalCode','Borough','Neighborhood']\n",
    "toronto=pd.DataFrame(columns=column_names)\n",
    "test_list = [\"M5G\", \"M2H\", \"M4B\", \"M1J\", \"M4G\", \"M4M\", \"M1R\", \"M9V\", \"M9L\", \"M5V\", \"M1B\", \"M5A\"]\n",
    "for postcode in test_list:\n",
    "    toronto=toronto.append(toronto_df_group[toronto_df_group['PostalCode']==postcode],ignore_index=True)\n",
    "toronto"
   ]
  },
  {
   "cell_type": "code",
   "execution_count": 11,
   "metadata": {},
   "outputs": [
    {
     "data": {
      "text/plain": [
       "(103, 3)"
      ]
     },
     "execution_count": 11,
     "metadata": {},
     "output_type": "execute_result"
    }
   ],
   "source": [
    "toronto_df_group.shape"
   ]
  },
  {
   "cell_type": "markdown",
   "metadata": {},
   "source": [
    "Reading Csv file of Geospatial_Coordinates"
   ]
  },
  {
   "cell_type": "code",
   "execution_count": 12,
   "metadata": {},
   "outputs": [
    {
     "data": {
      "text/html": [
       "<div>\n",
       "<style scoped>\n",
       "    .dataframe tbody tr th:only-of-type {\n",
       "        vertical-align: middle;\n",
       "    }\n",
       "\n",
       "    .dataframe tbody tr th {\n",
       "        vertical-align: top;\n",
       "    }\n",
       "\n",
       "    .dataframe thead th {\n",
       "        text-align: right;\n",
       "    }\n",
       "</style>\n",
       "<table border=\"1\" class=\"dataframe\">\n",
       "  <thead>\n",
       "    <tr style=\"text-align: right;\">\n",
       "      <th></th>\n",
       "      <th>Postal Code</th>\n",
       "      <th>Latitude</th>\n",
       "      <th>Longitude</th>\n",
       "    </tr>\n",
       "  </thead>\n",
       "  <tbody>\n",
       "    <tr>\n",
       "      <th>0</th>\n",
       "      <td>M1B</td>\n",
       "      <td>43.806686</td>\n",
       "      <td>-79.194353</td>\n",
       "    </tr>\n",
       "    <tr>\n",
       "      <th>1</th>\n",
       "      <td>M1C</td>\n",
       "      <td>43.784535</td>\n",
       "      <td>-79.160497</td>\n",
       "    </tr>\n",
       "    <tr>\n",
       "      <th>2</th>\n",
       "      <td>M1E</td>\n",
       "      <td>43.763573</td>\n",
       "      <td>-79.188711</td>\n",
       "    </tr>\n",
       "    <tr>\n",
       "      <th>3</th>\n",
       "      <td>M1G</td>\n",
       "      <td>43.770992</td>\n",
       "      <td>-79.216917</td>\n",
       "    </tr>\n",
       "    <tr>\n",
       "      <th>4</th>\n",
       "      <td>M1H</td>\n",
       "      <td>43.773136</td>\n",
       "      <td>-79.239476</td>\n",
       "    </tr>\n",
       "  </tbody>\n",
       "</table>\n",
       "</div>"
      ],
      "text/plain": [
       "  Postal Code   Latitude  Longitude\n",
       "0         M1B  43.806686 -79.194353\n",
       "1         M1C  43.784535 -79.160497\n",
       "2         M1E  43.763573 -79.188711\n",
       "3         M1G  43.770992 -79.216917\n",
       "4         M1H  43.773136 -79.239476"
      ]
     },
     "execution_count": 12,
     "metadata": {},
     "output_type": "execute_result"
    }
   ],
   "source": [
    "coordinates=pd.read_csv('Geospatial_Coordinates.csv')\n",
    "coordinates.head()"
   ]
  },
  {
   "cell_type": "markdown",
   "metadata": {},
   "source": [
    "Merging Two DataFrames "
   ]
  },
  {
   "cell_type": "code",
   "execution_count": 13,
   "metadata": {},
   "outputs": [
    {
     "data": {
      "text/html": [
       "<div>\n",
       "<style scoped>\n",
       "    .dataframe tbody tr th:only-of-type {\n",
       "        vertical-align: middle;\n",
       "    }\n",
       "\n",
       "    .dataframe tbody tr th {\n",
       "        vertical-align: top;\n",
       "    }\n",
       "\n",
       "    .dataframe thead th {\n",
       "        text-align: right;\n",
       "    }\n",
       "</style>\n",
       "<table border=\"1\" class=\"dataframe\">\n",
       "  <thead>\n",
       "    <tr style=\"text-align: right;\">\n",
       "      <th></th>\n",
       "      <th>PostalCode</th>\n",
       "      <th>Latitude</th>\n",
       "      <th>Longitude</th>\n",
       "    </tr>\n",
       "  </thead>\n",
       "  <tbody>\n",
       "    <tr>\n",
       "      <th>0</th>\n",
       "      <td>M1B</td>\n",
       "      <td>43.806686</td>\n",
       "      <td>-79.194353</td>\n",
       "    </tr>\n",
       "    <tr>\n",
       "      <th>1</th>\n",
       "      <td>M1C</td>\n",
       "      <td>43.784535</td>\n",
       "      <td>-79.160497</td>\n",
       "    </tr>\n",
       "    <tr>\n",
       "      <th>2</th>\n",
       "      <td>M1E</td>\n",
       "      <td>43.763573</td>\n",
       "      <td>-79.188711</td>\n",
       "    </tr>\n",
       "    <tr>\n",
       "      <th>3</th>\n",
       "      <td>M1G</td>\n",
       "      <td>43.770992</td>\n",
       "      <td>-79.216917</td>\n",
       "    </tr>\n",
       "    <tr>\n",
       "      <th>4</th>\n",
       "      <td>M1H</td>\n",
       "      <td>43.773136</td>\n",
       "      <td>-79.239476</td>\n",
       "    </tr>\n",
       "  </tbody>\n",
       "</table>\n",
       "</div>"
      ],
      "text/plain": [
       "  PostalCode   Latitude  Longitude\n",
       "0        M1B  43.806686 -79.194353\n",
       "1        M1C  43.784535 -79.160497\n",
       "2        M1E  43.763573 -79.188711\n",
       "3        M1G  43.770992 -79.216917\n",
       "4        M1H  43.773136 -79.239476"
      ]
     },
     "execution_count": 13,
     "metadata": {},
     "output_type": "execute_result"
    }
   ],
   "source": [
    "coordinates.rename(columns={'Postal Code':'PostalCode'}, inplace=True)\n",
    "coordinates.head()"
   ]
  },
  {
   "cell_type": "code",
   "execution_count": 14,
   "metadata": {},
   "outputs": [
    {
     "data": {
      "text/html": [
       "<div>\n",
       "<style scoped>\n",
       "    .dataframe tbody tr th:only-of-type {\n",
       "        vertical-align: middle;\n",
       "    }\n",
       "\n",
       "    .dataframe tbody tr th {\n",
       "        vertical-align: top;\n",
       "    }\n",
       "\n",
       "    .dataframe thead th {\n",
       "        text-align: right;\n",
       "    }\n",
       "</style>\n",
       "<table border=\"1\" class=\"dataframe\">\n",
       "  <thead>\n",
       "    <tr style=\"text-align: right;\">\n",
       "      <th></th>\n",
       "      <th>PostalCode</th>\n",
       "      <th>Borough</th>\n",
       "      <th>Neighborhood</th>\n",
       "      <th>Latitude</th>\n",
       "      <th>Longitude</th>\n",
       "    </tr>\n",
       "  </thead>\n",
       "  <tbody>\n",
       "    <tr>\n",
       "      <th>0</th>\n",
       "      <td>M1B</td>\n",
       "      <td>Scarborough</td>\n",
       "      <td>Malvern, Rouge</td>\n",
       "      <td>43.806686</td>\n",
       "      <td>-79.194353</td>\n",
       "    </tr>\n",
       "    <tr>\n",
       "      <th>1</th>\n",
       "      <td>M1C</td>\n",
       "      <td>Scarborough</td>\n",
       "      <td>Rouge Hill, Port Union, Highland Creek</td>\n",
       "      <td>43.784535</td>\n",
       "      <td>-79.160497</td>\n",
       "    </tr>\n",
       "    <tr>\n",
       "      <th>2</th>\n",
       "      <td>M1E</td>\n",
       "      <td>Scarborough</td>\n",
       "      <td>Guildwood, Morningside, West Hill</td>\n",
       "      <td>43.763573</td>\n",
       "      <td>-79.188711</td>\n",
       "    </tr>\n",
       "    <tr>\n",
       "      <th>3</th>\n",
       "      <td>M1G</td>\n",
       "      <td>Scarborough</td>\n",
       "      <td>Woburn</td>\n",
       "      <td>43.770992</td>\n",
       "      <td>-79.216917</td>\n",
       "    </tr>\n",
       "    <tr>\n",
       "      <th>4</th>\n",
       "      <td>M1H</td>\n",
       "      <td>Scarborough</td>\n",
       "      <td>Cedarbrae</td>\n",
       "      <td>43.773136</td>\n",
       "      <td>-79.239476</td>\n",
       "    </tr>\n",
       "  </tbody>\n",
       "</table>\n",
       "</div>"
      ],
      "text/plain": [
       "  PostalCode      Borough                            Neighborhood   Latitude  \\\n",
       "0        M1B  Scarborough                          Malvern, Rouge  43.806686   \n",
       "1        M1C  Scarborough  Rouge Hill, Port Union, Highland Creek  43.784535   \n",
       "2        M1E  Scarborough       Guildwood, Morningside, West Hill  43.763573   \n",
       "3        M1G  Scarborough                                  Woburn  43.770992   \n",
       "4        M1H  Scarborough                               Cedarbrae  43.773136   \n",
       "\n",
       "   Longitude  \n",
       "0 -79.194353  \n",
       "1 -79.160497  \n",
       "2 -79.188711  \n",
       "3 -79.216917  \n",
       "4 -79.239476  "
      ]
     },
     "execution_count": 14,
     "metadata": {},
     "output_type": "execute_result"
    }
   ],
   "source": [
    "toronto_df_new=toronto_df_group.merge(coordinates,on='PostalCode' ,how='left')\n",
    "toronto_df_new.head()"
   ]
  },
  {
   "cell_type": "markdown",
   "metadata": {},
   "source": [
    "Finally, check to make sure the coordinates are added as required by the question"
   ]
  },
  {
   "cell_type": "code",
   "execution_count": 15,
   "metadata": {},
   "outputs": [
    {
     "data": {
      "text/html": [
       "<div>\n",
       "<style scoped>\n",
       "    .dataframe tbody tr th:only-of-type {\n",
       "        vertical-align: middle;\n",
       "    }\n",
       "\n",
       "    .dataframe tbody tr th {\n",
       "        vertical-align: top;\n",
       "    }\n",
       "\n",
       "    .dataframe thead th {\n",
       "        text-align: right;\n",
       "    }\n",
       "</style>\n",
       "<table border=\"1\" class=\"dataframe\">\n",
       "  <thead>\n",
       "    <tr style=\"text-align: right;\">\n",
       "      <th></th>\n",
       "      <th>PostalCode</th>\n",
       "      <th>Borough</th>\n",
       "      <th>Neighborhood</th>\n",
       "      <th>Latitude</th>\n",
       "      <th>Longitude</th>\n",
       "    </tr>\n",
       "  </thead>\n",
       "  <tbody>\n",
       "    <tr>\n",
       "      <th>0</th>\n",
       "      <td>M5G</td>\n",
       "      <td>Downtown Toronto</td>\n",
       "      <td>Central Bay Street</td>\n",
       "      <td>43.657952</td>\n",
       "      <td>-79.387383</td>\n",
       "    </tr>\n",
       "    <tr>\n",
       "      <th>1</th>\n",
       "      <td>M2H</td>\n",
       "      <td>North York</td>\n",
       "      <td>Hillcrest Village</td>\n",
       "      <td>43.803762</td>\n",
       "      <td>-79.363452</td>\n",
       "    </tr>\n",
       "    <tr>\n",
       "      <th>2</th>\n",
       "      <td>M4B</td>\n",
       "      <td>East York</td>\n",
       "      <td>Parkview Hill, Woodbine Gardens</td>\n",
       "      <td>43.706397</td>\n",
       "      <td>-79.309937</td>\n",
       "    </tr>\n",
       "    <tr>\n",
       "      <th>3</th>\n",
       "      <td>M1J</td>\n",
       "      <td>Scarborough</td>\n",
       "      <td>Scarborough Village</td>\n",
       "      <td>43.744734</td>\n",
       "      <td>-79.239476</td>\n",
       "    </tr>\n",
       "    <tr>\n",
       "      <th>4</th>\n",
       "      <td>M4G</td>\n",
       "      <td>East York</td>\n",
       "      <td>Leaside</td>\n",
       "      <td>43.709060</td>\n",
       "      <td>-79.363452</td>\n",
       "    </tr>\n",
       "    <tr>\n",
       "      <th>5</th>\n",
       "      <td>M4M</td>\n",
       "      <td>East Toronto</td>\n",
       "      <td>Studio District</td>\n",
       "      <td>43.659526</td>\n",
       "      <td>-79.340923</td>\n",
       "    </tr>\n",
       "    <tr>\n",
       "      <th>6</th>\n",
       "      <td>M1R</td>\n",
       "      <td>Scarborough</td>\n",
       "      <td>Wexford, Maryvale</td>\n",
       "      <td>43.750072</td>\n",
       "      <td>-79.295849</td>\n",
       "    </tr>\n",
       "    <tr>\n",
       "      <th>7</th>\n",
       "      <td>M9V</td>\n",
       "      <td>Etobicoke</td>\n",
       "      <td>South Steeles, Silverstone, Humbergate, Jamest...</td>\n",
       "      <td>43.739416</td>\n",
       "      <td>-79.588437</td>\n",
       "    </tr>\n",
       "    <tr>\n",
       "      <th>8</th>\n",
       "      <td>M9L</td>\n",
       "      <td>North York</td>\n",
       "      <td>Humber Summit</td>\n",
       "      <td>43.756303</td>\n",
       "      <td>-79.565963</td>\n",
       "    </tr>\n",
       "    <tr>\n",
       "      <th>9</th>\n",
       "      <td>M5V</td>\n",
       "      <td>Downtown Toronto</td>\n",
       "      <td>CN Tower, King and Spadina, Railway Lands, Har...</td>\n",
       "      <td>43.628947</td>\n",
       "      <td>-79.394420</td>\n",
       "    </tr>\n",
       "    <tr>\n",
       "      <th>10</th>\n",
       "      <td>M1B</td>\n",
       "      <td>Scarborough</td>\n",
       "      <td>Malvern, Rouge</td>\n",
       "      <td>43.806686</td>\n",
       "      <td>-79.194353</td>\n",
       "    </tr>\n",
       "    <tr>\n",
       "      <th>11</th>\n",
       "      <td>M5A</td>\n",
       "      <td>Downtown Toronto</td>\n",
       "      <td>Regent Park, Harbourfront</td>\n",
       "      <td>43.654260</td>\n",
       "      <td>-79.360636</td>\n",
       "    </tr>\n",
       "  </tbody>\n",
       "</table>\n",
       "</div>"
      ],
      "text/plain": [
       "   PostalCode           Borough  \\\n",
       "0         M5G  Downtown Toronto   \n",
       "1         M2H        North York   \n",
       "2         M4B         East York   \n",
       "3         M1J       Scarborough   \n",
       "4         M4G         East York   \n",
       "5         M4M      East Toronto   \n",
       "6         M1R       Scarborough   \n",
       "7         M9V         Etobicoke   \n",
       "8         M9L        North York   \n",
       "9         M5V  Downtown Toronto   \n",
       "10        M1B       Scarborough   \n",
       "11        M5A  Downtown Toronto   \n",
       "\n",
       "                                         Neighborhood   Latitude  Longitude  \n",
       "0                                  Central Bay Street  43.657952 -79.387383  \n",
       "1                                   Hillcrest Village  43.803762 -79.363452  \n",
       "2                     Parkview Hill, Woodbine Gardens  43.706397 -79.309937  \n",
       "3                                 Scarborough Village  43.744734 -79.239476  \n",
       "4                                             Leaside  43.709060 -79.363452  \n",
       "5                                     Studio District  43.659526 -79.340923  \n",
       "6                                   Wexford, Maryvale  43.750072 -79.295849  \n",
       "7   South Steeles, Silverstone, Humbergate, Jamest...  43.739416 -79.588437  \n",
       "8                                       Humber Summit  43.756303 -79.565963  \n",
       "9   CN Tower, King and Spadina, Railway Lands, Har...  43.628947 -79.394420  \n",
       "10                                     Malvern, Rouge  43.806686 -79.194353  \n",
       "11                          Regent Park, Harbourfront  43.654260 -79.360636  "
      ]
     },
     "execution_count": 15,
     "metadata": {},
     "output_type": "execute_result"
    }
   ],
   "source": [
    "column_names=['PostalCode','Borough','Neighborhood']\n",
    "toronto=pd.DataFrame(columns=column_names)\n",
    "test_list = [\"M5G\", \"M2H\", \"M4B\", \"M1J\", \"M4G\", \"M4M\", \"M1R\", \"M9V\", \"M9L\", \"M5V\", \"M1B\", \"M5A\"]\n",
    "for postcode in test_list:\n",
    "    toronto=toronto.append(toronto_df_new[toronto_df_new['PostalCode']==postcode],ignore_index=True)\n",
    "toronto"
   ]
  },
  {
   "cell_type": "markdown",
   "metadata": {},
   "source": [
    "Using Geopy get Latitude and Longitude"
   ]
  },
  {
   "cell_type": "code",
   "execution_count": 21,
   "metadata": {},
   "outputs": [
    {
     "name": "stdout",
     "output_type": "stream",
     "text": [
      "The geographical coordinates of Toronto are 43.6534817,-79.3839347\n"
     ]
    }
   ],
   "source": [
    "address='Toronto'\n",
    "geolocator=Nominatim(user_agent='My-application')\n",
    "location=geolocator.geocode(address)\n",
    "latitude=location.latitude\n",
    "longitude=location.longitude\n",
    "print('The geographical coordinates of Toronto are {},{}'.format(latitude,longitude))"
   ]
  },
  {
   "cell_type": "markdown",
   "metadata": {},
   "source": [
    "Using folium displaying map from above latitude and longitude"
   ]
  },
  {
   "cell_type": "code",
   "execution_count": 25,
   "metadata": {},
   "outputs": [
    {
     "data": {
      "text/html": [
       "<div style=\"width:100%;\"><div style=\"position:relative;width:100%;height:0;padding-bottom:60%;\"><span style=\"color:#565656\">Make this Notebook Trusted to load map: File -> Trust Notebook</span><iframe src=\"about:blank\" style=\"position:absolute;width:100%;height:100%;left:0;top:0;border:none !important;\" data-html=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 onload=\"this.contentDocument.open();this.contentDocument.write(atob(this.getAttribute('data-html')));this.contentDocument.close();\" allowfullscreen webkitallowfullscreen mozallowfullscreen></iframe></div></div>"
      ],
      "text/plain": [
       "<folium.folium.Map at 0x157760a1408>"
      ]
     },
     "execution_count": 25,
     "metadata": {},
     "output_type": "execute_result"
    }
   ],
   "source": [
    "map_toronto=folium.Map(location=[latitude,longitude],zoom_start=10)\n",
    "\n",
    "for lat,lon,borough,neigh in zip(toronto_df_new['Latitude'],toronto_df_new['Longitude'],toronto_df_new['Borough'],toronto_df_new['Neighborhood']):\n",
    "    label='{},{}'.format(borough,neigh)\n",
    "    label=folium.Popup(label,parse_html=True)\n",
    "    folium.CircleMarker([lat,lon],\n",
    "                        radius=5,\n",
    "                        popup=label,\n",
    "                        color='blue',\n",
    "                        fill=True,\n",
    "                        fill_color='#3186cc',\n",
    "                        fill_opacity='0.7',\n",
    "                        parse_html=False).add_to(map_toronto)\n",
    "map_toronto"
   ]
  },
  {
   "cell_type": "markdown",
   "metadata": {},
   "source": [
    "Filter only boroughs that contain the word Toronto"
   ]
  },
  {
   "cell_type": "code",
   "execution_count": 29,
   "metadata": {},
   "outputs": [
    {
     "data": {
      "text/plain": [
       "['East Toronto', 'Central Toronto', 'Downtown Toronto', 'West Toronto']"
      ]
     },
     "execution_count": 29,
     "metadata": {},
     "output_type": "execute_result"
    }
   ],
   "source": [
    "borough_names=list(toronto_df_new.Borough.unique())\n",
    "borough_tor_names=[]\n",
    "for x in borough_names:\n",
    "    if 'toronto' in x.lower():\n",
    "        borough_tor_names.append(x)\n",
    "borough_tor_names"
   ]
  },
  {
   "cell_type": "code",
   "execution_count": 32,
   "metadata": {},
   "outputs": [
    {
     "data": {
      "text/html": [
       "<div>\n",
       "<style scoped>\n",
       "    .dataframe tbody tr th:only-of-type {\n",
       "        vertical-align: middle;\n",
       "    }\n",
       "\n",
       "    .dataframe tbody tr th {\n",
       "        vertical-align: top;\n",
       "    }\n",
       "\n",
       "    .dataframe thead th {\n",
       "        text-align: right;\n",
       "    }\n",
       "</style>\n",
       "<table border=\"1\" class=\"dataframe\">\n",
       "  <thead>\n",
       "    <tr style=\"text-align: right;\">\n",
       "      <th></th>\n",
       "      <th>PostalCode</th>\n",
       "      <th>Borough</th>\n",
       "      <th>Neighborhood</th>\n",
       "      <th>Latitude</th>\n",
       "      <th>Longitude</th>\n",
       "    </tr>\n",
       "  </thead>\n",
       "  <tbody>\n",
       "    <tr>\n",
       "      <th>0</th>\n",
       "      <td>M4E</td>\n",
       "      <td>East Toronto</td>\n",
       "      <td>The Beaches</td>\n",
       "      <td>43.676357</td>\n",
       "      <td>-79.293031</td>\n",
       "    </tr>\n",
       "    <tr>\n",
       "      <th>1</th>\n",
       "      <td>M4K</td>\n",
       "      <td>East Toronto</td>\n",
       "      <td>The Danforth West, Riverdale</td>\n",
       "      <td>43.679557</td>\n",
       "      <td>-79.352188</td>\n",
       "    </tr>\n",
       "    <tr>\n",
       "      <th>2</th>\n",
       "      <td>M4L</td>\n",
       "      <td>East Toronto</td>\n",
       "      <td>India Bazaar, The Beaches West</td>\n",
       "      <td>43.668999</td>\n",
       "      <td>-79.315572</td>\n",
       "    </tr>\n",
       "    <tr>\n",
       "      <th>3</th>\n",
       "      <td>M4M</td>\n",
       "      <td>East Toronto</td>\n",
       "      <td>Studio District</td>\n",
       "      <td>43.659526</td>\n",
       "      <td>-79.340923</td>\n",
       "    </tr>\n",
       "    <tr>\n",
       "      <th>4</th>\n",
       "      <td>M4N</td>\n",
       "      <td>Central Toronto</td>\n",
       "      <td>Lawrence Park</td>\n",
       "      <td>43.728020</td>\n",
       "      <td>-79.388790</td>\n",
       "    </tr>\n",
       "  </tbody>\n",
       "</table>\n",
       "</div>"
      ],
      "text/plain": [
       "  PostalCode          Borough                    Neighborhood   Latitude  \\\n",
       "0        M4E     East Toronto                     The Beaches  43.676357   \n",
       "1        M4K     East Toronto    The Danforth West, Riverdale  43.679557   \n",
       "2        M4L     East Toronto  India Bazaar, The Beaches West  43.668999   \n",
       "3        M4M     East Toronto                 Studio District  43.659526   \n",
       "4        M4N  Central Toronto                   Lawrence Park  43.728020   \n",
       "\n",
       "   Longitude  \n",
       "0 -79.293031  \n",
       "1 -79.352188  \n",
       "2 -79.315572  \n",
       "3 -79.340923  \n",
       "4 -79.388790  "
      ]
     },
     "execution_count": 32,
     "metadata": {},
     "output_type": "execute_result"
    }
   ],
   "source": [
    "toronto_df_new=toronto_df_new[toronto_df_new['Borough'].isin(borough_tor_names)].reset_index(drop=True)\n",
    "toronto_df_new.head()"
   ]
  },
  {
   "cell_type": "code",
   "execution_count": 33,
   "metadata": {},
   "outputs": [
    {
     "data": {
      "text/html": [
       "<div style=\"width:100%;\"><div style=\"position:relative;width:100%;height:0;padding-bottom:60%;\"><span style=\"color:#565656\">Make this Notebook Trusted to load map: File -> Trust Notebook</span><iframe src=\"about:blank\" style=\"position:absolute;width:100%;height:100%;left:0;top:0;border:none !important;\" data-html=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 onload=\"this.contentDocument.open();this.contentDocument.write(atob(this.getAttribute('data-html')));this.contentDocument.close();\" allowfullscreen webkitallowfullscreen mozallowfullscreen></iframe></div></div>"
      ],
      "text/plain": [
       "<folium.folium.Map at 0x15775f77ec8>"
      ]
     },
     "execution_count": 33,
     "metadata": {},
     "output_type": "execute_result"
    }
   ],
   "source": [
    "map_toronto=folium.Map(location=[latitude,longitude],zoom_start=10)\n",
    "\n",
    "for lat,lon,borough,neigh in zip(toronto_df_new['Latitude'],toronto_df_new['Longitude'],toronto_df_new['Borough'],toronto_df_new['Neighborhood']):\n",
    "    label='{},{}'.format(borough,neigh)\n",
    "    label=folium.Popup(label,parse_html=True)\n",
    "    folium.CircleMarker([lat,lon],\n",
    "                        radius=5,\n",
    "                        popup=label,\n",
    "                        color='blue',\n",
    "                        fill=True,\n",
    "                        fill_color='#3186cc',\n",
    "                        fill_opacity='0.7',\n",
    "                        parse_html=False).add_to(map_toronto)\n",
    "map_toronto"
   ]
  },
  {
   "cell_type": "code",
   "execution_count": null,
   "metadata": {},
   "outputs": [],
   "source": []
  }
 ],
 "metadata": {
  "kernelspec": {
   "display_name": "Python 3",
   "language": "python",
   "name": "python3"
  },
  "language_info": {
   "codemirror_mode": {
    "name": "ipython",
    "version": 3
   },
   "file_extension": ".py",
   "mimetype": "text/x-python",
   "name": "python",
   "nbconvert_exporter": "python",
   "pygments_lexer": "ipython3",
   "version": "3.7.6"
  }
 },
 "nbformat": 4,
 "nbformat_minor": 4
}
